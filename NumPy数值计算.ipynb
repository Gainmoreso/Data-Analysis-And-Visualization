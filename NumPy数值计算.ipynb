{
 "cells": [
  {
   "cell_type": "markdown",
   "id": "f6496f50",
   "metadata": {},
   "source": [
    "# 数组创建"
   ]
  },
  {
   "cell_type": "code",
   "execution_count": 5,
   "id": "8cf84fc9",
   "metadata": {},
   "outputs": [
    {
     "name": "stdout",
     "output_type": "stream",
     "text": [
      "创建的数组为: [1 2 3 4]\n"
     ]
    }
   ],
   "source": [
    "import numpy as np\n",
    "arr1 = np.array([1,2,3,4])# 采用numpy.array（object）创建一维数组\n",
    "print(\"创建的数组为:\",arr1)"
   ]
  },
  {
   "cell_type": "code",
   "execution_count": 8,
   "id": "2abcd470",
   "metadata": {},
   "outputs": [
    {
     "name": "stdout",
     "output_type": "stream",
     "text": [
      "arr1数组元素类型: int32\n",
      "arr1数组维度: (4,)\n",
      "arr1数组元素个数: 4\n",
      "arr1数组内每个元素大小: 4\n"
     ]
    }
   ],
   "source": [
    "print(\"arr1数组元素类型:\",arr1.dtype)\n",
    "print(\"arr1数组维度:\",arr1.shape)\n",
    "print(\"arr1数组元素个数:\",arr1.size)\n",
    "print(\"arr1数组内每个元素大小:\",arr1.itemsize)"
   ]
  },
  {
   "cell_type": "code",
   "execution_count": 6,
   "id": "bc538c28",
   "metadata": {},
   "outputs": [
    {
     "name": "stdout",
     "output_type": "stream",
     "text": [
      "[[ 1  2  3  4]\n",
      " [ 5  6  7  8]\n",
      " [ 9 10 11 12]]\n"
     ]
    }
   ],
   "source": [
    "arr2 = np.array([[1,2,3,4],[5,6,7,8],[9,10,11,12]])\n",
    "print(arr2)"
   ]
  },
  {
   "cell_type": "code",
   "execution_count": 8,
   "id": "0747a73b",
   "metadata": {},
   "outputs": [
    {
     "name": "stdout",
     "output_type": "stream",
     "text": [
      "arr2数组维度: (4, 3)\n",
      "[[ 1  2  3]\n",
      " [ 4  5  6]\n",
      " [ 7  8  9]\n",
      " [10 11 12]]\n"
     ]
    }
   ],
   "source": [
    "print(\"arr2数组维度:\",arr2.shape)\n",
    "arr2.shape = 4,3 #可以更改arr2的维度\n",
    "print(arr2)"
   ]
  },
  {
   "cell_type": "code",
   "execution_count": 9,
   "id": "7b034738",
   "metadata": {},
   "outputs": [
    {
     "name": "stdout",
     "output_type": "stream",
     "text": [
      "[0.  0.1 0.2 0.3 0.4 0.5 0.6 0.7 0.8 0.9]\n"
     ]
    }
   ],
   "source": [
    "arr3 = np.arange(0,1,0.1) # 采用numpy.arange（start=0,stop,step=1,dtype=None）,返回值为数组，不包含终止值\n",
    "print(arr3)"
   ]
  },
  {
   "cell_type": "code",
   "execution_count": 10,
   "id": "9c58c0c8",
   "metadata": {},
   "outputs": [
    {
     "name": "stdout",
     "output_type": "stream",
     "text": [
      "[0 1 2 3 4]\n"
     ]
    }
   ],
   "source": [
    "arr3_1 = np.arange(5) #相当于np.arrange(0,5,1)\n",
    "print(arr3_1)"
   ]
  },
  {
   "cell_type": "code",
   "execution_count": 14,
   "id": "d2ac02bb",
   "metadata": {},
   "outputs": [
    {
     "name": "stdout",
     "output_type": "stream",
     "text": [
      "(array([ 0.        ,  9.09090909, 18.18181818, 27.27272727, 36.36363636,\n",
      "       45.45454545, 54.54545455, 63.63636364, 72.72727273, 81.81818182,\n",
      "       90.90909091]), 9.090909090909092)\n"
     ]
    }
   ],
   "source": [
    "arr4 = np.linspace(0,100,11,endpoint=False,retstep=True) #采用numpy.linspace（start,stop,num=50,endpoint=True,retstep=False,dtype=None）构造等差数列\n",
    "print(arr4) #输出会显示间距"
   ]
  },
  {
   "cell_type": "code",
   "execution_count": 22,
   "id": "e2523000",
   "metadata": {},
   "outputs": [
    {
     "name": "stdout",
     "output_type": "stream",
     "text": [
      "[  1.           1.27427499   1.62377674   2.06913808   2.6366509\n",
      "   3.35981829   4.2813324    5.45559478   6.95192796   8.8586679\n",
      "  11.28837892  14.38449888  18.32980711  23.35721469  29.76351442\n",
      "  37.92690191  48.32930239  61.58482111  78.47599704 100.        ]\n"
     ]
    }
   ],
   "source": [
    "arr5 = np.logspace(0,2,20) #numpy.logspace（start,stop,num=50,endpoint=True,base=10.0,dtype=None）构造等比数列,X=10^(start到stop)\n",
    "print(arr5)"
   ]
  },
  {
   "cell_type": "code",
   "execution_count": 15,
   "id": "71897399",
   "metadata": {},
   "outputs": [
    {
     "name": "stdout",
     "output_type": "stream",
     "text": [
      "[[0. 0. 0.]\n",
      " [0. 0. 0.]]\n"
     ]
    }
   ],
   "source": [
    "arr6=np.zeros((2,3)) #创建指定维度数组，并以0补充,参数为元组\n",
    "print(arr6)"
   ]
  },
  {
   "cell_type": "code",
   "execution_count": 42,
   "id": "97afa837",
   "metadata": {},
   "outputs": [
    {
     "name": "stdout",
     "output_type": "stream",
     "text": [
      "[[1. 1. 1.]\n",
      " [1. 1. 1.]\n",
      " [1. 1. 1.]\n",
      " [1. 1. 1.]\n",
      " [1. 1. 1.]]\n"
     ]
    }
   ],
   "source": [
    "arr9 = np.ones((5,3)) #创建元素全为1的数组，参数为元组\n",
    "print(arr9)"
   ]
  },
  {
   "cell_type": "code",
   "execution_count": 18,
   "id": "a7f7c2da",
   "metadata": {},
   "outputs": [
    {
     "name": "stdout",
     "output_type": "stream",
     "text": [
      "[0. 0. 0.]\n"
     ]
    }
   ],
   "source": [
    "arr6_1 = np.zeros(3)\n",
    "print(arr6_1)"
   ]
  },
  {
   "cell_type": "code",
   "execution_count": 14,
   "id": "e1f772d4",
   "metadata": {},
   "outputs": [
    {
     "name": "stdout",
     "output_type": "stream",
     "text": [
      "[1. 1. 1. 1. 1.]\n"
     ]
    }
   ],
   "source": [
    "arr9_1 = np.ones(5)\n",
    "print(arr9_1)"
   ]
  },
  {
   "cell_type": "code",
   "execution_count": 17,
   "id": "368c9230",
   "metadata": {},
   "outputs": [
    {
     "name": "stdout",
     "output_type": "stream",
     "text": [
      "[[1. 0. 0.]\n",
      " [0. 1. 0.]\n",
      " [0. 0. 1.]]\n"
     ]
    }
   ],
   "source": [
    "arr7=np.eye(3) #创建主对角线为1，其他为0的n*n的数组\n",
    "print(arr7)"
   ]
  },
  {
   "cell_type": "code",
   "execution_count": 38,
   "id": "8b0810de",
   "metadata": {},
   "outputs": [
    {
     "name": "stdout",
     "output_type": "stream",
     "text": [
      "[[1 0 0 0]\n",
      " [0 2 0 0]\n",
      " [0 0 3 0]\n",
      " [0 0 0 4]]\n"
     ]
    }
   ],
   "source": [
    "arr8=np.diag([1,2,3,4]) #创建除对角线其余为0的n*n数组\n",
    "print(arr8)"
   ]
  },
  {
   "cell_type": "markdown",
   "id": "266e65f6",
   "metadata": {},
   "source": [
    "# NumPy类型"
   ]
  },
  {
   "cell_type": "code",
   "execution_count": 20,
   "id": "ec0aac33",
   "metadata": {},
   "outputs": [
    {
     "name": "stdout",
     "output_type": "stream",
     "text": [
      "42.0\n"
     ]
    }
   ],
   "source": [
    "print(np.float64(42))"
   ]
  },
  {
   "cell_type": "code",
   "execution_count": 41,
   "id": "d9c5a489",
   "metadata": {},
   "outputs": [
    {
     "name": "stdout",
     "output_type": "stream",
     "text": [
      "42\n"
     ]
    }
   ],
   "source": [
    "print(np.int8(42.0))"
   ]
  },
  {
   "cell_type": "code",
   "execution_count": 19,
   "id": "0ff01611",
   "metadata": {},
   "outputs": [
    {
     "name": "stdout",
     "output_type": "stream",
     "text": [
      "[('name', '<U40'), ('numitems', '<i8'), ('price', '<f8')]\n",
      "<U40\n"
     ]
    }
   ],
   "source": [
    "df = np.dtype([(\"name\",np.str_,40),(\"numitems\",np.int64),(\"price\",np.float64)]) #使用numpy.dtype函数得到自定义数组数据类型\n",
    "print(df)\n",
    "print(df[\"name\"]) #输出为 顺序+字符编码或类型+大小"
   ]
  },
  {
   "cell_type": "code",
   "execution_count": 30,
   "id": "d7fdf3cb",
   "metadata": {},
   "outputs": [
    {
     "name": "stdout",
     "output_type": "stream",
     "text": [
      "[('tomatos', 42, 4.14) ('cabbages', 13, 1.72)]\n",
      "('tomatos', 42, 4.14)\n",
      "tomatos\n",
      "tomatos\n"
     ]
    }
   ],
   "source": [
    "item = np.array([(\"tomatos\",42,4.14),(\"cabbages\",13,1.72)],dtype=df) #使用df自定义数据数据和类型，否则默认数组类型为浮点型\n",
    "print(item)\n",
    "print(item[0])\n",
    "print(item[0][0])\n",
    "print(item[0][\"name\"])"
   ]
  },
  {
   "cell_type": "markdown",
   "id": "74b43af9",
   "metadata": {},
   "source": [
    "# NumPy获取随机数"
   ]
  },
  {
   "cell_type": "code",
   "execution_count": 21,
   "id": "143ef628",
   "metadata": {},
   "outputs": [
    {
     "name": "stdout",
     "output_type": "stream",
     "text": [
      "[0.60927457 0.0755398  0.05441362 0.07496466 0.59392243 0.10532571\n",
      " 0.4942526  0.83914151 0.16948686 0.87223135]\n"
     ]
    }
   ],
   "source": [
    "arr10 = np.random.random(10) #调用numpy.random模块中的random(x)函数生成10个位于[0.0,1.0)的随机数组,x为整数或元组\n",
    "print(arr10)"
   ]
  },
  {
   "cell_type": "code",
   "execution_count": 51,
   "id": "97b63cee",
   "metadata": {},
   "outputs": [
    {
     "name": "stdout",
     "output_type": "stream",
     "text": [
      "[[0.00687427 0.76199481]\n",
      " [0.73478702 0.06661069]]\n"
     ]
    }
   ],
   "source": [
    "arr10_1 = np.random.random((2,2)) #返回2行2列位于[0.0,1.0)的随机二维数组\n",
    "print(arr10_1)"
   ]
  },
  {
   "cell_type": "code",
   "execution_count": 40,
   "id": "e15341eb",
   "metadata": {},
   "outputs": [
    {
     "name": "stdout",
     "output_type": "stream",
     "text": [
      "[0.70169219 0.2778348  0.82472824 0.97473655 0.17426052 0.38284404\n",
      " 0.3476404  0.11479885 0.46159736 0.95211826]\n"
     ]
    }
   ],
   "source": [
    "arr10_2 = np.random.rand(10) #调用numpy.random模块中的rand(d0,d1....dn)函数生成10个位于[0,1)的随机数,传入数字的个数为维度\n",
    "print(arr10_2)"
   ]
  },
  {
   "cell_type": "code",
   "execution_count": 42,
   "id": "1d9b9e32",
   "metadata": {},
   "outputs": [
    {
     "name": "stdout",
     "output_type": "stream",
     "text": [
      "[[0.4917506  0.33252507 0.51218419 0.71531702 0.91183191]\n",
      " [0.92231678 0.72239269 0.23255209 0.30525234 0.07008274]]\n"
     ]
    }
   ],
   "source": [
    "arr10_3 = np.random.rand(2,5) #返回2行5列位于[0,1)的随机二维数组\n",
    "print(arr10_3)"
   ]
  },
  {
   "cell_type": "code",
   "execution_count": 43,
   "id": "432ec1ec",
   "metadata": {},
   "outputs": [
    {
     "name": "stdout",
     "output_type": "stream",
     "text": [
      "[ 0.88421886 -1.78317583  0.88701036]\n"
     ]
    }
   ],
   "source": [
    "arr10_4 = np.random.randn(3) #调用np.random模块的randn函数(d0,d1....dn)返回10个符合正态分布的随机数,参数个数表示维度\n",
    "print(arr10_4)"
   ]
  },
  {
   "cell_type": "code",
   "execution_count": 44,
   "id": "73b1a1e8",
   "metadata": {},
   "outputs": [
    {
     "name": "stdout",
     "output_type": "stream",
     "text": [
      "[[ 0.83414622 -1.58018707  0.10735155]\n",
      " [-1.27807074  1.61662767 -1.61046125]]\n"
     ]
    }
   ],
   "source": [
    "arr10_5 = np.random.randn(2,3) #返回符合正态分布的2行3列二维随机数组\n",
    "print(arr10_5)"
   ]
  },
  {
   "cell_type": "code",
   "execution_count": 45,
   "id": "f6aed938",
   "metadata": {},
   "outputs": [
    {
     "name": "stdout",
     "output_type": "stream",
     "text": [
      "[9 9 2 2 5]\n"
     ]
    }
   ],
   "source": [
    "arr10_6=np.random.randint(2,10,5) #调用np.random模块的randint（low,high=None,size=None）函数返回10个位于[2,10)的整数,size可为整数或元组,为None仅返回一个整数\n",
    "print(arr10_6)"
   ]
  },
  {
   "cell_type": "code",
   "execution_count": 47,
   "id": "6a45e432",
   "metadata": {},
   "outputs": [
    {
     "name": "stdout",
     "output_type": "stream",
     "text": [
      "[[6 2 7 5 2]\n",
      " [9 5 8 2 6]]\n"
     ]
    }
   ],
   "source": [
    "arr10_7=np.random.randint(2,10,(2,5)) #返回位于[2,10)的2行5列的二维整数数组\n",
    "print(arr10_7)"
   ]
  },
  {
   "cell_type": "code",
   "execution_count": 48,
   "id": "48e4bdbe",
   "metadata": {},
   "outputs": [
    {
     "name": "stdout",
     "output_type": "stream",
     "text": [
      "[[0 1 0 0 1]\n",
      " [1 0 0 0 0]]\n"
     ]
    }
   ],
   "source": [
    "arr10_8=np.random.randint(2,size=(2,5)) #返回位于[0,2)的2行5列的二维整数数组\n",
    "print(arr10_8)"
   ]
  },
  {
   "cell_type": "code",
   "execution_count": 49,
   "id": "0cbe60a7",
   "metadata": {},
   "outputs": [
    {
     "name": "stdout",
     "output_type": "stream",
     "text": [
      "[ 0.03181897 -0.18416345  0.051958    0.01697182  0.0877833  -0.01514626\n",
      "  0.11935034  0.11849879  0.05728848 -0.10995221]\n"
     ]
    }
   ],
   "source": [
    "arr10_9 = np.random.normal(0,0.1,10) # np.random.normal(loc,scale,size),生成用于正态分布的随机数，loc为期望，scale为标准差，size为数组维数\n",
    "print(arr10_9)"
   ]
  },
  {
   "cell_type": "code",
   "execution_count": 50,
   "id": "54e0deac",
   "metadata": {},
   "outputs": [
    {
     "name": "stdout",
     "output_type": "stream",
     "text": [
      "[[ 0.00527994  0.20829987  0.09871357  0.03495009  0.04005295]\n",
      " [-0.01343154 -0.06297035 -0.12099749 -0.10342378 -0.03218473]]\n"
     ]
    }
   ],
   "source": [
    "arr10_10 = np.random.normal(0,0.1,(2,5)) #返回2行5列均值为0，标准差为0.1的正态分布随机二维数组\n",
    "print(arr10_10)"
   ]
  },
  {
   "cell_type": "markdown",
   "id": "e5ccc086",
   "metadata": {},
   "source": [
    "# 数组索引和切片"
   ]
  },
  {
   "cell_type": "code",
   "execution_count": 62,
   "id": "a077a2d9",
   "metadata": {},
   "outputs": [
    {
     "name": "stdout",
     "output_type": "stream",
     "text": [
      "1\n",
      "3\n"
     ]
    }
   ],
   "source": [
    "n1 = np.array([1,2,3])\n",
    "print(n1[0])\n",
    "print(n1[-1])"
   ]
  },
  {
   "cell_type": "code",
   "execution_count": 22,
   "id": "b4c63228",
   "metadata": {},
   "outputs": [
    {
     "name": "stdout",
     "output_type": "stream",
     "text": [
      "2\n",
      "3\n",
      "6\n"
     ]
    }
   ],
   "source": [
    "n2 = np.array([[1,2,3],[4,5,6]])\n",
    "print(n2[0][1])\n",
    "print(n2[0][-1])\n",
    "print(n2[-1,-1])"
   ]
  },
  {
   "cell_type": "markdown",
   "id": "72a77603",
   "metadata": {},
   "source": [
    "切片 start:stop:step , 范围为[start，stop)"
   ]
  },
  {
   "cell_type": "code",
   "execution_count": 23,
   "id": "48d234b7",
   "metadata": {},
   "outputs": [
    {
     "name": "stdout",
     "output_type": "stream",
     "text": [
      "[1 2 3]\n",
      "[1 3]\n",
      "[1 2 3 4]\n",
      "[1 2 3]\n",
      "[1 2 3 4]\n",
      "[1 2 3 4]\n",
      "[1 2 3 4]\n",
      "[4 3 2 1]\n",
      "[4 3]\n",
      "[2 1]\n",
      "[2]\n"
     ]
    }
   ],
   "source": [
    "n3=np.array([1,2,3,4])\n",
    "print(n3[0:3:1])\n",
    "print(n3[0:4:2])\n",
    "print(n3[0:5]) #step默认为1,相当于[0:4:1]\n",
    "print(n3[:3]) #start默认为0,step默认为1，相当于[0:3:1]\n",
    "print(n3[0:]) #stop默认为最后一个元素的下一个下标,相当于[0:4:1]\n",
    "print(n3[:]) #相当于[0:4]\n",
    "print(n3[::]) #相当于[0:4:1]\n",
    "print(n3[::-1]) #step为-1，默认逆序输出\n",
    "print(n3[:-3:-1]) #step=-1，此时start默认-1，倒数第一个到倒数第三个，不包括倒数第三个\n",
    "print(n3[-3::-1]) #倒数第三个到倒数最后一个\n",
    "print(n3[-3:-4:-1]) #倒数第三个到倒数第四个，不包括倒数第四个"
   ]
  },
  {
   "cell_type": "code",
   "execution_count": 24,
   "id": "5882536a",
   "metadata": {},
   "outputs": [
    {
     "name": "stdout",
     "output_type": "stream",
     "text": [
      "[[1 2 3]\n",
      " [4 5 6]]\n",
      "\n",
      "[[2 3]\n",
      " [5 6]]\n",
      "\n",
      "[2 5]\n",
      "\n",
      "[1 5 3]\n"
     ]
    }
   ],
   "source": [
    "n4=np.array([[1,2,3],[4,5,6]])\n",
    "print(n4)\n",
    "print()\n",
    "print(n4[0:,1:]) # 取第一行第二行，和第二列第三列交叉点的元素\n",
    "print()\n",
    "print(n4[0:,1]) # 取第一行第二行，和第二列交叉点的元素\n",
    "print()\n",
    "print(n4[((0,1,0),(0,1,2))]) #取n4坐标为[0,0],[1,1],[0,2]的元素"
   ]
  },
  {
   "cell_type": "markdown",
   "id": "712958d3",
   "metadata": {},
   "source": [
    "# 数组变换形态"
   ]
  },
  {
   "cell_type": "code",
   "execution_count": 120,
   "id": "ddab7dfc",
   "metadata": {},
   "outputs": [
    {
     "name": "stdout",
     "output_type": "stream",
     "text": [
      "[0 1 2 3 4 5 6 7 8 9]\n",
      "[[0 1 2 3 4]\n",
      " [5 6 7 8 9]]\n",
      "转换为2行5列:\n",
      " [0 1 2 3 4 5 6 7 8 9]\n",
      "纵向展开后:\n",
      " [0 5 1 6 2 7 3 8 4 9]\n",
      "横向展开后:\n",
      " [0 1 2 3 4 5 6 7 8 9]\n",
      "T属性转置后:\n",
      " [[0 5]\n",
      " [1 6]\n",
      " [2 7]\n",
      " [3 8]\n",
      " [4 9]]\n",
      "transpose函数转置后:\n",
      " [[0 5]\n",
      " [1 6]\n",
      " [2 7]\n",
      " [3 8]\n",
      " [4 9]]\n"
     ]
    }
   ],
   "source": [
    "n5=np.arange(10)\n",
    "print(n5)\n",
    "n5 = n5.reshape(2,5) #reahpe函数改变数组的维数，这里由一维数组变为2行5列的二维数组\n",
    "print(n5)\n",
    "print(\"转换为2行5列:\\n\",n5.ravel()) #ravel函数横向展开数组，化成一维\n",
    "#flatten函数可以横向或纵向展开数组，纵向展开数组参数为'F'.\n",
    "print(\"纵向展开后:\\n\",n5.flatten('F'))\n",
    "print(\"横向展开后:\\n\",n5.flatten())\n",
    "#使用数组的T属性转置\n",
    "print(\"T属性转置后:\\n\",n5.T)\n",
    "#使用transpose函数转置\n",
    "print(\"transpose函数转置后:\\n\",n5.transpose())"
   ]
  },
  {
   "cell_type": "code",
   "execution_count": 25,
   "id": "50b517a5",
   "metadata": {},
   "outputs": [
    {
     "name": "stdout",
     "output_type": "stream",
     "text": [
      "[[ 0  1  2  3]\n",
      " [ 4  5  6  7]\n",
      " [ 8  9 10 11]]\n",
      "[[ 0  3  6  9]\n",
      " [12 15 18 21]\n",
      " [24 27 30 33]]\n",
      "横向组合为:\n",
      " [[ 0  1  2  3  0  3  6  9]\n",
      " [ 4  5  6  7 12 15 18 21]\n",
      " [ 8  9 10 11 24 27 30 33]]\n",
      "纵向组合为:\n",
      " [[ 0  1  2  3]\n",
      " [ 4  5  6  7]\n",
      " [ 8  9 10 11]\n",
      " [ 0  3  6  9]\n",
      " [12 15 18 21]\n",
      " [24 27 30 33]\n",
      " [ 0  1  2  3]\n",
      " [ 4  5  6  7]\n",
      " [ 8  9 10 11]]\n",
      "横向组合为:\n",
      " [[ 0  1  2  3  0  3  6  9]\n",
      " [ 4  5  6  7 12 15 18 21]\n",
      " [ 8  9 10 11 24 27 30 33]]\n",
      "纵向组合为:\n",
      " [[ 0  1  2  3]\n",
      " [ 4  5  6  7]\n",
      " [ 8  9 10 11]\n",
      " [ 0  3  6  9]\n",
      " [12 15 18 21]\n",
      " [24 27 30 33]\n",
      " [ 0  1  2  3]\n",
      " [ 4  5  6  7]\n",
      " [ 8  9 10 11]]\n"
     ]
    }
   ],
   "source": [
    "n6 = np.arange(12).reshape(3,4)\n",
    "print(n6)\n",
    "n7 = n6*3 #n6中的每个元素都*3\n",
    "print(n7)\n",
    "print(\"横向组合为:\\n\",np.hstack((n6,n7))) #np.hstack((arr1,arr2...))函数横向组合数组\n",
    "print(\"纵向组合为:\\n\",np.vstack((n6,n7,n6))) #np.vstack((arr1,arr2...))函数纵向组合数组\n",
    "#使用np.concatenate((arr1,arr2...),axis=1或者0)函数组合数组\n",
    "print(\"横向组合为:\\n\",np.concatenate((n6,n7),1)) #横向组合数组\n",
    "print(\"纵向组合为:\\n\",np.concatenate((n6,n7,n6),0)) #纵向组合数组"
   ]
  },
  {
   "cell_type": "code",
   "execution_count": 110,
   "id": "1494629f",
   "metadata": {},
   "outputs": [
    {
     "name": "stdout",
     "output_type": "stream",
     "text": [
      "[[ 0  1  2  3]\n",
      " [ 4  5  6  7]\n",
      " [ 8  9 10 11]\n",
      " [12 13 14 15]]\n",
      "横向分割后:\n",
      " [array([[ 0,  1],\n",
      "       [ 4,  5],\n",
      "       [ 8,  9],\n",
      "       [12, 13]]), array([[ 2,  3],\n",
      "       [ 6,  7],\n",
      "       [10, 11],\n",
      "       [14, 15]])]\n",
      "纵向分割后:\n",
      " [array([[0, 1, 2, 3],\n",
      "       [4, 5, 6, 7]]), array([[ 8,  9, 10, 11],\n",
      "       [12, 13, 14, 15]])]\n",
      "横向分割后:\n",
      " [array([[ 0],\n",
      "       [ 4],\n",
      "       [ 8],\n",
      "       [12]]), array([[ 1],\n",
      "       [ 5],\n",
      "       [ 9],\n",
      "       [13]]), array([[ 2],\n",
      "       [ 6],\n",
      "       [10],\n",
      "       [14]]), array([[ 3],\n",
      "       [ 7],\n",
      "       [11],\n",
      "       [15]])]\n",
      "纵向分割后:\n",
      " [array([[0, 1, 2, 3]]), array([[4, 5, 6, 7]]), array([[ 8,  9, 10, 11]]), array([[12, 13, 14, 15]])]\n"
     ]
    }
   ],
   "source": [
    "n8 = np.arange(16).reshape(4,4)\n",
    "print(n8)\n",
    "#采用np.hsplit(arr,num)实现横向分割，num为分割的部份数，分割的部分元素数相同\n",
    "print(\"横向分割后:\\n\",np.hsplit(n8,2)) \n",
    "#采用np.vsplit(arr,num)实现纵向分割，num为分割的部份数，分割的部分元素数相同\n",
    "print(\"纵向分割后:\\n\",np.vsplit(n8,2)) \n",
    "#使用np.split(arr,num,axis=0或1)实现分割\n",
    "print(\"横向分割后:\\n\",np.split(n8,4,1)) \n",
    "print(\"纵向分割后:\\n\",np.split(n8,4,0))"
   ]
  },
  {
   "cell_type": "markdown",
   "id": "2c7c3028",
   "metadata": {},
   "source": [
    "# 数组删除和修改"
   ]
  },
  {
   "cell_type": "code",
   "execution_count": 121,
   "id": "22f4065a",
   "metadata": {},
   "outputs": [
    {
     "name": "stdout",
     "output_type": "stream",
     "text": [
      "[[0 1]\n",
      " [2 3]\n",
      " [4 5]]\n",
      "删除第一行:\n",
      " [[2 3]\n",
      " [4 5]]\n",
      "删除第一列:\n",
      " [[1]\n",
      " [3]\n",
      " [5]]\n",
      "删除第一行和第二行:\n",
      " [[4 5]]\n",
      "修改第一行数据:\n",
      " [[10 20]\n",
      " [ 2  3]\n",
      " [ 4  5]]\n",
      "修改第一行第二列的值:\n",
      " [[ 10 100]\n",
      " [  2   3]\n",
      " [  4   5]]\n"
     ]
    }
   ],
   "source": [
    "n9=np.arange(6).reshape(3,2)\n",
    "print(n9)\n",
    "#采用np.delete(arr,size,axis=0或1)删除某几行或几列，axis=1删除列，axis=0删除行\n",
    "print(\"删除第一行:\\n\",np.delete(n9,0,0))\n",
    "print(\"删除第一列:\\n\",np.delete(n9,0,1))\n",
    "print(\"删除第一行和第二行:\\n\",np.delete(n9,(0,1),0))\n",
    "n9[0]=[10,20]\n",
    "print(\"修改第一行数据:\\n\",n9)\n",
    "n9[0][1]=100 #或者n9[0,1]\n",
    "print(\"修改第一行第二列的值:\\n\",n9)"
   ]
  },
  {
   "cell_type": "markdown",
   "id": "96ea9ced",
   "metadata": {},
   "source": [
    "## 行操作0 列操作1"
   ]
  },
  {
   "cell_type": "markdown",
   "id": "1367fd20",
   "metadata": {},
   "source": [
    "# 数组查询"
   ]
  },
  {
   "cell_type": "code",
   "execution_count": 124,
   "id": "f11a915e",
   "metadata": {},
   "outputs": [
    {
     "name": "stdout",
     "output_type": "stream",
     "text": [
      "[0 1 2 3 4 5 6 7 8 9]\n",
      "[0 0 0 0 0 0 1 1 1 1]\n",
      "[6 7 8 9]\n"
     ]
    }
   ],
   "source": [
    "n10=np.arange(10)\n",
    "print(n10)\n",
    "#调用np.where(condition,x,y)函数进行查询，如果元素满足条件condition则输出为x,否则y；若果不指定参数x和y，则输出满足函数条件数组元素的下标\n",
    "print(np.where(n10>5,1,0)) \n",
    "print(n10[np.where(n10>5)])"
   ]
  }
 ],
 "metadata": {
  "kernelspec": {
   "display_name": "Python 3 (ipykernel)",
   "language": "python",
   "name": "python3"
  },
  "language_info": {
   "codemirror_mode": {
    "name": "ipython",
    "version": 3
   },
   "file_extension": ".py",
   "mimetype": "text/x-python",
   "name": "python",
   "nbconvert_exporter": "python",
   "pygments_lexer": "ipython3",
   "version": "3.9.7"
  }
 },
 "nbformat": 4,
 "nbformat_minor": 5
}
