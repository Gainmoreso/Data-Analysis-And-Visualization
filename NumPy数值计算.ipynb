{
 "cells": [
  {
   "cell_type": "code",
   "execution_count": 1,
   "id": "d0fb59ab",
   "metadata": {},
   "outputs": [
    {
     "name": "stdout",
     "output_type": "stream",
     "text": [
      "创建的数组为: [1 2 3 4]\n"
     ]
    }
   ],
   "source": [
    "import numpy as np\n",
    "arr1 = np.array([1,2,3,4])# 采用numpy.array（object）创建一维数组\n",
    "print(\"创建的数组为:\",arr1)"
   ]
  },
  {
   "cell_type": "code",
   "execution_count": 8,
   "id": "2abcd470",
   "metadata": {},
   "outputs": [
    {
     "name": "stdout",
     "output_type": "stream",
     "text": [
      "arr1数组元素类型: int32\n",
      "arr1数组维度: (4,)\n",
      "arr1数组元素个数: 4\n",
      "arr1数组内每个元素大小: 4\n"
     ]
    }
   ],
   "source": [
    "print(\"arr1数组元素类型:\",arr1.dtype)\n",
    "print(\"arr1数组维度:\",arr1.shape)\n",
    "print(\"arr1数组元素个数:\",arr1.size)\n",
    "print(\"arr1数组内每个元素大小:\",arr1.itemsize)"
   ]
  },
  {
   "cell_type": "code",
   "execution_count": 10,
   "id": "bc538c28",
   "metadata": {},
   "outputs": [
    {
     "name": "stdout",
     "output_type": "stream",
     "text": [
      "[[ 1  2  3  4]\n",
      " [ 5  6  7  8]\n",
      " [ 9 10 11 12]]\n"
     ]
    }
   ],
   "source": [
    "arr2 = np.array([[1,2,3,4],[5,6,7,8],[9,10,11,12]])\n",
    "print(arr2)"
   ]
  },
  {
   "cell_type": "code",
   "execution_count": 13,
   "id": "0747a73b",
   "metadata": {},
   "outputs": [
    {
     "name": "stdout",
     "output_type": "stream",
     "text": [
      "arr2数组维度: (3, 4)\n",
      "[[ 1  2  3]\n",
      " [ 4  5  6]\n",
      " [ 7  8  9]\n",
      " [10 11 12]]\n"
     ]
    }
   ],
   "source": [
    "print(\"arr2数组维度:\",arr2.shape)\n",
    "arr2.shape = 4,3\n",
    "print(arr2)"
   ]
  },
  {
   "cell_type": "code",
   "execution_count": 14,
   "id": "7b034738",
   "metadata": {},
   "outputs": [
    {
     "name": "stdout",
     "output_type": "stream",
     "text": [
      "[0.  0.1 0.2 0.3 0.4 0.5 0.6 0.7 0.8 0.9]\n"
     ]
    }
   ],
   "source": [
    "arr3 = np.arange(0,1,0.1) # 采用numpy.arange（start,stop,step=1,dtype=None）,返回值为数组，不包含终止值\n",
    "print(arr3)"
   ]
  },
  {
   "cell_type": "code",
   "execution_count": 21,
   "id": "d2ac02bb",
   "metadata": {},
   "outputs": [
    {
     "name": "stdout",
     "output_type": "stream",
     "text": [
      "(array([ 0., 10., 20., 30., 40., 50., 60., 70., 80., 90.]), 10.0)\n"
     ]
    }
   ],
   "source": [
    "arr4 = np.linspace(0,100,10,endpoint=False,retstep=True) #采用numpy.linspace（start,stop,num=50,endpoint=True,retstep=False,dtype=None）构造等差数列\n",
    "print(arr4) #输出会显示间距"
   ]
  },
  {
   "cell_type": "code",
   "execution_count": 22,
   "id": "e2523000",
   "metadata": {},
   "outputs": [
    {
     "name": "stdout",
     "output_type": "stream",
     "text": [
      "[  1.           1.27427499   1.62377674   2.06913808   2.6366509\n",
      "   3.35981829   4.2813324    5.45559478   6.95192796   8.8586679\n",
      "  11.28837892  14.38449888  18.32980711  23.35721469  29.76351442\n",
      "  37.92690191  48.32930239  61.58482111  78.47599704 100.        ]\n"
     ]
    }
   ],
   "source": [
    "arr5 = np.logspace(0,2,20) #numpy.logspace（start,stop,num=50,endpoint=True,base=10.0,dtype=None）构造等比数列\n",
    "print(arr5)"
   ]
  },
  {
   "cell_type": "code",
   "execution_count": 30,
   "id": "71897399",
   "metadata": {},
   "outputs": [
    {
     "name": "stdout",
     "output_type": "stream",
     "text": [
      "[[0. 0. 0.]\n",
      " [0. 0. 0.]]\n"
     ]
    }
   ],
   "source": [
    "arr6=np.zeros((2,3)) #创建指定维度数组，并以0补充,参数为元组\n",
    "print(arr6)"
   ]
  },
  {
   "cell_type": "code",
   "execution_count": 37,
   "id": "368c9230",
   "metadata": {},
   "outputs": [
    {
     "name": "stdout",
     "output_type": "stream",
     "text": [
      "[[1. 0. 0.]\n",
      " [0. 1. 0.]\n",
      " [0. 0. 1.]]\n"
     ]
    }
   ],
   "source": [
    "arr7=np.eye(3) #创建主对角线为1，其他为0的数组\n",
    "print(arr7)"
   ]
  },
  {
   "cell_type": "code",
   "execution_count": 38,
   "id": "8b0810de",
   "metadata": {},
   "outputs": [
    {
     "name": "stdout",
     "output_type": "stream",
     "text": [
      "[[1 0 0 0]\n",
      " [0 2 0 0]\n",
      " [0 0 3 0]\n",
      " [0 0 0 4]]\n"
     ]
    }
   ],
   "source": [
    "arr8=np.diag([1,2,3,4]) #创建除对角线其余为0的数组\n",
    "print(arr8)"
   ]
  },
  {
   "cell_type": "code",
   "execution_count": 42,
   "id": "97afa837",
   "metadata": {},
   "outputs": [
    {
     "name": "stdout",
     "output_type": "stream",
     "text": [
      "[[1. 1. 1.]\n",
      " [1. 1. 1.]\n",
      " [1. 1. 1.]\n",
      " [1. 1. 1.]\n",
      " [1. 1. 1.]]\n"
     ]
    }
   ],
   "source": [
    "arr9 = np.ones((5,3)) #创建元素全为1的数组\n",
    "print(arr9)"
   ]
  },
  {
   "cell_type": "code",
   "execution_count": 40,
   "id": "fd7bc002",
   "metadata": {},
   "outputs": [
    {
     "name": "stdout",
     "output_type": "stream",
     "text": [
      "42.0\n"
     ]
    }
   ],
   "source": [
    "print(np.float64(42))"
   ]
  },
  {
   "cell_type": "code",
   "execution_count": 41,
   "id": "d9c5a489",
   "metadata": {},
   "outputs": [
    {
     "name": "stdout",
     "output_type": "stream",
     "text": [
      "42\n"
     ]
    }
   ],
   "source": [
    "print(np.int8(42.0))"
   ]
  }
 ],
 "metadata": {
  "kernelspec": {
   "display_name": "Python 3 (ipykernel)",
   "language": "python",
   "name": "python3"
  },
  "language_info": {
   "codemirror_mode": {
    "name": "ipython",
    "version": 3
   },
   "file_extension": ".py",
   "mimetype": "text/x-python",
   "name": "python",
   "nbconvert_exporter": "python",
   "pygments_lexer": "ipython3",
   "version": "3.9.7"
  }
 },
 "nbformat": 4,
 "nbformat_minor": 5
}
