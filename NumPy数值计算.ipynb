{
 "cells": [
  {
   "cell_type": "markdown",
   "id": "f6496f50",
   "metadata": {},
   "source": [
    "# 数组创建"
   ]
  },
  {
   "cell_type": "code",
   "execution_count": 1,
   "id": "8cf84fc9",
   "metadata": {},
   "outputs": [
    {
     "name": "stdout",
     "output_type": "stream",
     "text": [
      "创建的数组为: [1 2 3 4]\n"
     ]
    }
   ],
   "source": [
    "import numpy as np\n",
    "arr1 = np.array([1,2,3,4])# 采用numpy.array（object）创建一维数组\n",
    "print(\"创建的数组为:\",arr1)"
   ]
  },
  {
   "cell_type": "code",
   "execution_count": 8,
   "id": "2abcd470",
   "metadata": {},
   "outputs": [
    {
     "name": "stdout",
     "output_type": "stream",
     "text": [
      "arr1数组元素类型: int32\n",
      "arr1数组维度: (4,)\n",
      "arr1数组元素个数: 4\n",
      "arr1数组内每个元素大小: 4\n"
     ]
    }
   ],
   "source": [
    "print(\"arr1数组元素类型:\",arr1.dtype)\n",
    "print(\"arr1数组维度:\",arr1.shape)\n",
    "print(\"arr1数组元素个数:\",arr1.size)\n",
    "print(\"arr1数组内每个元素大小:\",arr1.itemsize)"
   ]
  },
  {
   "cell_type": "code",
   "execution_count": 6,
   "id": "bc538c28",
   "metadata": {},
   "outputs": [
    {
     "name": "stdout",
     "output_type": "stream",
     "text": [
      "[[ 1  2  3  4]\n",
      " [ 5  6  7  8]\n",
      " [ 9 10 11 12]]\n"
     ]
    }
   ],
   "source": [
    "arr2 = np.array([[1,2,3,4],[5,6,7,8],[9,10,11,12]])\n",
    "print(arr2)"
   ]
  },
  {
   "cell_type": "code",
   "execution_count": 8,
   "id": "0747a73b",
   "metadata": {},
   "outputs": [
    {
     "name": "stdout",
     "output_type": "stream",
     "text": [
      "arr2数组维度: (4, 3)\n",
      "[[ 1  2  3]\n",
      " [ 4  5  6]\n",
      " [ 7  8  9]\n",
      " [10 11 12]]\n"
     ]
    }
   ],
   "source": [
    "print(\"arr2数组维度:\",arr2.shape)\n",
    "arr2.shape = 4,3 #可以更改arr2的维度\n",
    "print(arr2)"
   ]
  },
  {
   "cell_type": "code",
   "execution_count": 9,
   "id": "7b034738",
   "metadata": {},
   "outputs": [
    {
     "name": "stdout",
     "output_type": "stream",
     "text": [
      "[0.  0.1 0.2 0.3 0.4 0.5 0.6 0.7 0.8 0.9]\n"
     ]
    }
   ],
   "source": [
    "arr3 = np.arange(0,1,0.1) # 采用numpy.arange（start=0,stop,step=1,dtype=None）,返回值为[start,stop)的所有整数的数组\n",
    "print(arr3)"
   ]
  },
  {
   "cell_type": "code",
   "execution_count": 10,
   "id": "9c58c0c8",
   "metadata": {},
   "outputs": [
    {
     "name": "stdout",
     "output_type": "stream",
     "text": [
      "[0 1 2 3 4]\n"
     ]
    }
   ],
   "source": [
    "arr3_1 = np.arange(5) #相当于np.arrange(0,5,1)\n",
    "print(arr3_1)"
   ]
  },
  {
   "cell_type": "code",
   "execution_count": 14,
   "id": "d2ac02bb",
   "metadata": {},
   "outputs": [
    {
     "name": "stdout",
     "output_type": "stream",
     "text": [
      "(array([ 0.        ,  9.09090909, 18.18181818, 27.27272727, 36.36363636,\n",
      "       45.45454545, 54.54545455, 63.63636364, 72.72727273, 81.81818182,\n",
      "       90.90909091]), 9.090909090909092)\n"
     ]
    }
   ],
   "source": [
    "arr4 = np.linspace(0,100,11,endpoint=False,retstep=True) #采用numpy.linspace（start,stop,num=50,endpoint=True,retstep=False,dtype=None）构造等差数列\n",
    "print(arr4) #输出会显示间距"
   ]
  },
  {
   "cell_type": "code",
   "execution_count": 22,
   "id": "e2523000",
   "metadata": {},
   "outputs": [
    {
     "name": "stdout",
     "output_type": "stream",
     "text": [
      "[  1.           1.27427499   1.62377674   2.06913808   2.6366509\n",
      "   3.35981829   4.2813324    5.45559478   6.95192796   8.8586679\n",
      "  11.28837892  14.38449888  18.32980711  23.35721469  29.76351442\n",
      "  37.92690191  48.32930239  61.58482111  78.47599704 100.        ]\n"
     ]
    }
   ],
   "source": [
    "arr5 = np.logspace(0,2,20) #numpy.logspace（start,stop,num=50,endpoint=True,base=10.0,dtype=None）构造等比数列,X=10^(start到stop)\n",
    "print(arr5)"
   ]
  },
  {
   "cell_type": "code",
   "execution_count": 15,
   "id": "71897399",
   "metadata": {},
   "outputs": [
    {
     "name": "stdout",
     "output_type": "stream",
     "text": [
      "[[0. 0. 0.]\n",
      " [0. 0. 0.]]\n"
     ]
    }
   ],
   "source": [
    "arr6=np.zeros((2,3)) #创建指定维度数组，并以0补充,参数为元组\n",
    "print(arr6)"
   ]
  },
  {
   "cell_type": "code",
   "execution_count": 42,
   "id": "97afa837",
   "metadata": {},
   "outputs": [
    {
     "name": "stdout",
     "output_type": "stream",
     "text": [
      "[[1. 1. 1.]\n",
      " [1. 1. 1.]\n",
      " [1. 1. 1.]\n",
      " [1. 1. 1.]\n",
      " [1. 1. 1.]]\n"
     ]
    }
   ],
   "source": [
    "arr9 = np.ones((5,3)) #创建元素全为1的数组，参数为元组\n",
    "print(arr9)"
   ]
  },
  {
   "cell_type": "code",
   "execution_count": 18,
   "id": "a7f7c2da",
   "metadata": {},
   "outputs": [
    {
     "name": "stdout",
     "output_type": "stream",
     "text": [
      "[0. 0. 0.]\n"
     ]
    }
   ],
   "source": [
    "arr6_1 = np.zeros(3)\n",
    "print(arr6_1)"
   ]
  },
  {
   "cell_type": "code",
   "execution_count": 14,
   "id": "e1f772d4",
   "metadata": {},
   "outputs": [
    {
     "name": "stdout",
     "output_type": "stream",
     "text": [
      "[1. 1. 1. 1. 1.]\n"
     ]
    }
   ],
   "source": [
    "arr9_1 = np.ones(5)\n",
    "print(arr9_1)"
   ]
  },
  {
   "cell_type": "code",
   "execution_count": 17,
   "id": "368c9230",
   "metadata": {},
   "outputs": [
    {
     "name": "stdout",
     "output_type": "stream",
     "text": [
      "[[1. 0. 0.]\n",
      " [0. 1. 0.]\n",
      " [0. 0. 1.]]\n"
     ]
    }
   ],
   "source": [
    "arr7=np.eye(3) #创建主对角线为1，其他为0的n*n的数组\n",
    "print(arr7)"
   ]
  },
  {
   "cell_type": "code",
   "execution_count": 38,
   "id": "8b0810de",
   "metadata": {},
   "outputs": [
    {
     "name": "stdout",
     "output_type": "stream",
     "text": [
      "[[1 0 0 0]\n",
      " [0 2 0 0]\n",
      " [0 0 3 0]\n",
      " [0 0 0 4]]\n"
     ]
    }
   ],
   "source": [
    "arr8=np.diag([1,2,3,4]) #创建除对角线其余为0的n*n数组\n",
    "print(arr8)"
   ]
  },
  {
   "cell_type": "markdown",
   "id": "266e65f6",
   "metadata": {},
   "source": [
    "# NumPy类型"
   ]
  },
  {
   "cell_type": "code",
   "execution_count": 20,
   "id": "ec0aac33",
   "metadata": {},
   "outputs": [
    {
     "name": "stdout",
     "output_type": "stream",
     "text": [
      "42.0\n"
     ]
    }
   ],
   "source": [
    "print(np.float64(42))"
   ]
  },
  {
   "cell_type": "code",
   "execution_count": 41,
   "id": "d9c5a489",
   "metadata": {},
   "outputs": [
    {
     "name": "stdout",
     "output_type": "stream",
     "text": [
      "42\n"
     ]
    }
   ],
   "source": [
    "print(np.int8(42.0))"
   ]
  },
  {
   "cell_type": "code",
   "execution_count": 19,
   "id": "0ff01611",
   "metadata": {},
   "outputs": [
    {
     "name": "stdout",
     "output_type": "stream",
     "text": [
      "[('name', '<U40'), ('numitems', '<i8'), ('price', '<f8')]\n",
      "<U40\n"
     ]
    }
   ],
   "source": [
    "df = np.dtype([(\"name\",np.str_,40),(\"numitems\",np.int64),(\"price\",np.float64)]) #使用numpy.dtype函数得到自定义数组数据类型\n",
    "print(df)\n",
    "print(df[\"name\"]) #输出为 顺序+字符编码或类型+大小"
   ]
  },
  {
   "cell_type": "code",
   "execution_count": 30,
   "id": "d7fdf3cb",
   "metadata": {},
   "outputs": [
    {
     "name": "stdout",
     "output_type": "stream",
     "text": [
      "[('tomatos', 42, 4.14) ('cabbages', 13, 1.72)]\n",
      "('tomatos', 42, 4.14)\n",
      "tomatos\n",
      "tomatos\n"
     ]
    }
   ],
   "source": [
    "item = np.array([(\"tomatos\",42,4.14),(\"cabbages\",13,1.72)],dtype=df) #使用df自定义数据数据和类型，否则默认数组类型为浮点型\n",
    "print(item)\n",
    "print(item[0])\n",
    "print(item[0][0])\n",
    "print(item[0][\"name\"])"
   ]
  },
  {
   "cell_type": "markdown",
   "id": "74b43af9",
   "metadata": {},
   "source": [
    "# NumPy获取随机数"
   ]
  },
  {
   "cell_type": "code",
   "execution_count": 21,
   "id": "143ef628",
   "metadata": {},
   "outputs": [
    {
     "name": "stdout",
     "output_type": "stream",
     "text": [
      "[0.60927457 0.0755398  0.05441362 0.07496466 0.59392243 0.10532571\n",
      " 0.4942526  0.83914151 0.16948686 0.87223135]\n"
     ]
    }
   ],
   "source": [
    "arr10 = np.random.random(10) #调用numpy.random模块中的random(x)函数生成10个位于[0.0,1.0)的随机数组,x为整数或元组\n",
    "print(arr10)"
   ]
  },
  {
   "cell_type": "code",
   "execution_count": 51,
   "id": "97b63cee",
   "metadata": {},
   "outputs": [
    {
     "name": "stdout",
     "output_type": "stream",
     "text": [
      "[[0.00687427 0.76199481]\n",
      " [0.73478702 0.06661069]]\n"
     ]
    }
   ],
   "source": [
    "arr10_1 = np.random.random((2,2)) #返回2行2列位于[0.0,1.0)的随机二维数组\n",
    "print(arr10_1)"
   ]
  },
  {
   "cell_type": "code",
   "execution_count": 40,
   "id": "e15341eb",
   "metadata": {},
   "outputs": [
    {
     "name": "stdout",
     "output_type": "stream",
     "text": [
      "[0.70169219 0.2778348  0.82472824 0.97473655 0.17426052 0.38284404\n",
      " 0.3476404  0.11479885 0.46159736 0.95211826]\n"
     ]
    }
   ],
   "source": [
    "arr10_2 = np.random.rand(10) #调用numpy.random模块中的rand(d0,d1....dn)函数生成10个位于[0,1)的随机数,传入数字的个数为维度\n",
    "print(arr10_2)"
   ]
  },
  {
   "cell_type": "code",
   "execution_count": 42,
   "id": "1d9b9e32",
   "metadata": {},
   "outputs": [
    {
     "name": "stdout",
     "output_type": "stream",
     "text": [
      "[[0.4917506  0.33252507 0.51218419 0.71531702 0.91183191]\n",
      " [0.92231678 0.72239269 0.23255209 0.30525234 0.07008274]]\n"
     ]
    }
   ],
   "source": [
    "arr10_3 = np.random.rand(2,5) #返回2行5列位于[0,1)的随机二维数组\n",
    "print(arr10_3)"
   ]
  },
  {
   "cell_type": "code",
   "execution_count": 43,
   "id": "432ec1ec",
   "metadata": {},
   "outputs": [
    {
     "name": "stdout",
     "output_type": "stream",
     "text": [
      "[ 0.88421886 -1.78317583  0.88701036]\n"
     ]
    }
   ],
   "source": [
    "arr10_4 = np.random.randn(3) #调用np.random模块的randn函数(d0,d1....dn)返回10个符合正态分布的随机数,参数个数表示维度\n",
    "print(arr10_4)"
   ]
  },
  {
   "cell_type": "code",
   "execution_count": 44,
   "id": "73b1a1e8",
   "metadata": {},
   "outputs": [
    {
     "name": "stdout",
     "output_type": "stream",
     "text": [
      "[[ 0.83414622 -1.58018707  0.10735155]\n",
      " [-1.27807074  1.61662767 -1.61046125]]\n"
     ]
    }
   ],
   "source": [
    "arr10_5 = np.random.randn(2,3) #返回符合正态分布的2行3列二维随机数组\n",
    "print(arr10_5)"
   ]
  },
  {
   "cell_type": "code",
   "execution_count": 45,
   "id": "f6aed938",
   "metadata": {},
   "outputs": [
    {
     "name": "stdout",
     "output_type": "stream",
     "text": [
      "[9 9 2 2 5]\n"
     ]
    }
   ],
   "source": [
    "arr10_6=np.random.randint(2,10,5) #调用np.random模块的randint（low,high=None,size=None）函数返回10个位于[2,10)的整数,size可为整数或元组,为None仅返回一个整数\n",
    "print(arr10_6)"
   ]
  },
  {
   "cell_type": "code",
   "execution_count": 47,
   "id": "6a45e432",
   "metadata": {},
   "outputs": [
    {
     "name": "stdout",
     "output_type": "stream",
     "text": [
      "[[6 2 7 5 2]\n",
      " [9 5 8 2 6]]\n"
     ]
    }
   ],
   "source": [
    "arr10_7=np.random.randint(2,10,(2,5)) #返回位于[2,10)的2行5列的二维整数数组\n",
    "print(arr10_7)"
   ]
  },
  {
   "cell_type": "code",
   "execution_count": 48,
   "id": "48e4bdbe",
   "metadata": {},
   "outputs": [
    {
     "name": "stdout",
     "output_type": "stream",
     "text": [
      "[[0 1 0 0 1]\n",
      " [1 0 0 0 0]]\n"
     ]
    }
   ],
   "source": [
    "arr10_8=np.random.randint(2,size=(2,5)) #返回位于[0,2)的2行5列的二维整数数组\n",
    "print(arr10_8)"
   ]
  },
  {
   "cell_type": "code",
   "execution_count": 49,
   "id": "0cbe60a7",
   "metadata": {},
   "outputs": [
    {
     "name": "stdout",
     "output_type": "stream",
     "text": [
      "[ 0.03181897 -0.18416345  0.051958    0.01697182  0.0877833  -0.01514626\n",
      "  0.11935034  0.11849879  0.05728848 -0.10995221]\n"
     ]
    }
   ],
   "source": [
    "arr10_9 = np.random.normal(0,0.1,10) # np.random.normal(loc,scale,size),生成用于正态分布的随机数，loc为期望，scale为标准差，size为数组维数\n",
    "print(arr10_9)"
   ]
  },
  {
   "cell_type": "code",
   "execution_count": 50,
   "id": "54e0deac",
   "metadata": {},
   "outputs": [
    {
     "name": "stdout",
     "output_type": "stream",
     "text": [
      "[[ 0.00527994  0.20829987  0.09871357  0.03495009  0.04005295]\n",
      " [-0.01343154 -0.06297035 -0.12099749 -0.10342378 -0.03218473]]\n"
     ]
    }
   ],
   "source": [
    "arr10_10 = np.random.normal(0,0.1,(2,5)) #返回2行5列均值为0，标准差为0.1的正态分布随机二维数组\n",
    "print(arr10_10)"
   ]
  },
  {
   "cell_type": "markdown",
   "id": "e5ccc086",
   "metadata": {},
   "source": [
    "# 数组索引和切片"
   ]
  },
  {
   "cell_type": "code",
   "execution_count": 62,
   "id": "a077a2d9",
   "metadata": {},
   "outputs": [
    {
     "name": "stdout",
     "output_type": "stream",
     "text": [
      "1\n",
      "3\n"
     ]
    }
   ],
   "source": [
    "n1 = np.array([1,2,3])\n",
    "print(n1[0])\n",
    "print(n1[-1])"
   ]
  },
  {
   "cell_type": "code",
   "execution_count": 22,
   "id": "b4c63228",
   "metadata": {},
   "outputs": [
    {
     "name": "stdout",
     "output_type": "stream",
     "text": [
      "2\n",
      "3\n",
      "6\n"
     ]
    }
   ],
   "source": [
    "n2 = np.array([[1,2,3],[4,5,6]])\n",
    "print(n2[0][1])\n",
    "print(n2[0][-1])\n",
    "print(n2[-1,-1])"
   ]
  },
  {
   "cell_type": "markdown",
   "id": "72a77603",
   "metadata": {},
   "source": [
    "切片 start:stop:step , 范围为[start，stop)"
   ]
  },
  {
   "cell_type": "code",
   "execution_count": 23,
   "id": "48d234b7",
   "metadata": {},
   "outputs": [
    {
     "name": "stdout",
     "output_type": "stream",
     "text": [
      "[1 2 3]\n",
      "[1 3]\n",
      "[1 2 3 4]\n",
      "[1 2 3]\n",
      "[1 2 3 4]\n",
      "[1 2 3 4]\n",
      "[1 2 3 4]\n",
      "[4 3 2 1]\n",
      "[4 3]\n",
      "[2 1]\n",
      "[2]\n"
     ]
    }
   ],
   "source": [
    "n3=np.array([1,2,3,4])\n",
    "print(n3[0:3:1])\n",
    "print(n3[0:4:2])\n",
    "print(n3[0:5]) #step默认为1,相当于[0:4:1]\n",
    "print(n3[:3]) #start默认为0,step默认为1，相当于[0:3:1]\n",
    "print(n3[0:]) #stop默认为最后一个元素的下一个下标,相当于[0:4:1]\n",
    "print(n3[:]) #相当于[0:4]\n",
    "print(n3[::]) #相当于[0:4:1]\n",
    "print(n3[::-1]) #step为-1，默认逆序输出\n",
    "print(n3[:-3:-1]) #step=-1，此时start默认-1，倒数第一个到倒数第三个，不包括倒数第三个\n",
    "print(n3[-3::-1]) #倒数第三个到倒数最后一个\n",
    "print(n3[-3:-4:-1]) #倒数第三个到倒数第四个，不包括倒数第四个"
   ]
  },
  {
   "cell_type": "code",
   "execution_count": 24,
   "id": "5882536a",
   "metadata": {},
   "outputs": [
    {
     "name": "stdout",
     "output_type": "stream",
     "text": [
      "[[1 2 3]\n",
      " [4 5 6]]\n",
      "\n",
      "[[2 3]\n",
      " [5 6]]\n",
      "\n",
      "[2 5]\n",
      "\n",
      "[1 5 3]\n"
     ]
    }
   ],
   "source": [
    "n4=np.array([[1,2,3],[4,5,6]])\n",
    "print(n4)\n",
    "print()\n",
    "print(n4[0:,1:]) # 取第一行第二行，和第二列第三列交叉点的元素\n",
    "print()\n",
    "print(n4[0:,1]) # 取第一行第二行，和第二列交叉点的元素\n",
    "print()\n",
    "print(n4[((0,1,0),(0,1,2))]) #取n4坐标为[0,0],[1,1],[0,2]的元素"
   ]
  },
  {
   "cell_type": "markdown",
   "id": "712958d3",
   "metadata": {},
   "source": [
    "# 数组变换形态"
   ]
  },
  {
   "cell_type": "code",
   "execution_count": 120,
   "id": "ddab7dfc",
   "metadata": {},
   "outputs": [
    {
     "name": "stdout",
     "output_type": "stream",
     "text": [
      "[0 1 2 3 4 5 6 7 8 9]\n",
      "[[0 1 2 3 4]\n",
      " [5 6 7 8 9]]\n",
      "转换为2行5列:\n",
      " [0 1 2 3 4 5 6 7 8 9]\n",
      "纵向展开后:\n",
      " [0 5 1 6 2 7 3 8 4 9]\n",
      "横向展开后:\n",
      " [0 1 2 3 4 5 6 7 8 9]\n",
      "T属性转置后:\n",
      " [[0 5]\n",
      " [1 6]\n",
      " [2 7]\n",
      " [3 8]\n",
      " [4 9]]\n",
      "transpose函数转置后:\n",
      " [[0 5]\n",
      " [1 6]\n",
      " [2 7]\n",
      " [3 8]\n",
      " [4 9]]\n"
     ]
    }
   ],
   "source": [
    "n5=np.arange(10)\n",
    "print(n5)\n",
    "n5 = n5.reshape(2,5) #reahpe函数改变数组的维数，这里由一维数组变为2行5列的二维数组\n",
    "print(n5)\n",
    "print(\"转换为2行5列:\\n\",n5.ravel()) #ravel函数横向展开数组，化成一维\n",
    "#flatten函数可以横向或纵向展开数组，纵向展开数组参数为'F'.\n",
    "print(\"纵向展开后:\\n\",n5.flatten('F'))\n",
    "print(\"横向展开后:\\n\",n5.flatten())\n",
    "#使用数组的T属性转置\n",
    "print(\"T属性转置后:\\n\",n5.T)\n",
    "#使用transpose函数转置\n",
    "print(\"transpose函数转置后:\\n\",n5.transpose())"
   ]
  },
  {
   "cell_type": "code",
   "execution_count": 25,
   "id": "50b517a5",
   "metadata": {},
   "outputs": [
    {
     "name": "stdout",
     "output_type": "stream",
     "text": [
      "[[ 0  1  2  3]\n",
      " [ 4  5  6  7]\n",
      " [ 8  9 10 11]]\n",
      "[[ 0  3  6  9]\n",
      " [12 15 18 21]\n",
      " [24 27 30 33]]\n",
      "横向组合为:\n",
      " [[ 0  1  2  3  0  3  6  9]\n",
      " [ 4  5  6  7 12 15 18 21]\n",
      " [ 8  9 10 11 24 27 30 33]]\n",
      "纵向组合为:\n",
      " [[ 0  1  2  3]\n",
      " [ 4  5  6  7]\n",
      " [ 8  9 10 11]\n",
      " [ 0  3  6  9]\n",
      " [12 15 18 21]\n",
      " [24 27 30 33]\n",
      " [ 0  1  2  3]\n",
      " [ 4  5  6  7]\n",
      " [ 8  9 10 11]]\n",
      "横向组合为:\n",
      " [[ 0  1  2  3  0  3  6  9]\n",
      " [ 4  5  6  7 12 15 18 21]\n",
      " [ 8  9 10 11 24 27 30 33]]\n",
      "纵向组合为:\n",
      " [[ 0  1  2  3]\n",
      " [ 4  5  6  7]\n",
      " [ 8  9 10 11]\n",
      " [ 0  3  6  9]\n",
      " [12 15 18 21]\n",
      " [24 27 30 33]\n",
      " [ 0  1  2  3]\n",
      " [ 4  5  6  7]\n",
      " [ 8  9 10 11]]\n"
     ]
    }
   ],
   "source": [
    "n6 = np.arange(12).reshape(3,4)\n",
    "print(n6)\n",
    "n7 = n6*3 #n6中的每个元素都*3\n",
    "print(n7)\n",
    "print(\"横向组合为:\\n\",np.hstack((n6,n7))) #np.hstack((arr1,arr2...))函数横向组合数组\n",
    "print(\"纵向组合为:\\n\",np.vstack((n6,n7,n6))) #np.vstack((arr1,arr2...))函数纵向组合数组\n",
    "#使用np.concatenate((arr1,arr2...),axis=1或者0)函数组合数组\n",
    "print(\"横向组合为:\\n\",np.concatenate((n6,n7),1)) #横向组合数组\n",
    "print(\"纵向组合为:\\n\",np.concatenate((n6,n7,n6),0)) #纵向组合数组"
   ]
  },
  {
   "cell_type": "code",
   "execution_count": 110,
   "id": "1494629f",
   "metadata": {},
   "outputs": [
    {
     "name": "stdout",
     "output_type": "stream",
     "text": [
      "[[ 0  1  2  3]\n",
      " [ 4  5  6  7]\n",
      " [ 8  9 10 11]\n",
      " [12 13 14 15]]\n",
      "横向分割后:\n",
      " [array([[ 0,  1],\n",
      "       [ 4,  5],\n",
      "       [ 8,  9],\n",
      "       [12, 13]]), array([[ 2,  3],\n",
      "       [ 6,  7],\n",
      "       [10, 11],\n",
      "       [14, 15]])]\n",
      "纵向分割后:\n",
      " [array([[0, 1, 2, 3],\n",
      "       [4, 5, 6, 7]]), array([[ 8,  9, 10, 11],\n",
      "       [12, 13, 14, 15]])]\n",
      "横向分割后:\n",
      " [array([[ 0],\n",
      "       [ 4],\n",
      "       [ 8],\n",
      "       [12]]), array([[ 1],\n",
      "       [ 5],\n",
      "       [ 9],\n",
      "       [13]]), array([[ 2],\n",
      "       [ 6],\n",
      "       [10],\n",
      "       [14]]), array([[ 3],\n",
      "       [ 7],\n",
      "       [11],\n",
      "       [15]])]\n",
      "纵向分割后:\n",
      " [array([[0, 1, 2, 3]]), array([[4, 5, 6, 7]]), array([[ 8,  9, 10, 11]]), array([[12, 13, 14, 15]])]\n"
     ]
    }
   ],
   "source": [
    "n8 = np.arange(16).reshape(4,4)\n",
    "print(n8)\n",
    "#采用np.hsplit(arr,num)实现横向分割，num为分割的部份数，分割的部分元素数相同\n",
    "print(\"横向分割后:\\n\",np.hsplit(n8,2)) \n",
    "#采用np.vsplit(arr,num)实现纵向分割，num为分割的部份数，分割的部分元素数相同\n",
    "print(\"纵向分割后:\\n\",np.vsplit(n8,2)) \n",
    "#使用np.split(arr,num,axis=0或1)实现分割\n",
    "print(\"横向分割后:\\n\",np.split(n8,4,1)) \n",
    "print(\"纵向分割后:\\n\",np.split(n8,4,0))"
   ]
  },
  {
   "cell_type": "markdown",
   "id": "2c7c3028",
   "metadata": {},
   "source": [
    "# 数组删除和修改"
   ]
  },
  {
   "cell_type": "code",
   "execution_count": 26,
   "id": "22f4065a",
   "metadata": {},
   "outputs": [
    {
     "name": "stdout",
     "output_type": "stream",
     "text": [
      "[[0 1]\n",
      " [2 3]\n",
      " [4 5]]\n",
      "删除第一行:\n",
      " [[2 3]\n",
      " [4 5]]\n",
      "删除第一列:\n",
      " [[1]\n",
      " [3]\n",
      " [5]]\n",
      "删除第一行和第二行:\n",
      " [[4 5]]\n",
      "修改第一行数据:\n",
      " [[10 20]\n",
      " [ 2  3]\n",
      " [ 4  5]]\n",
      "修改第一行第二列的值:\n",
      " [[ 10 100]\n",
      " [  2   3]\n",
      " [  4   5]]\n"
     ]
    }
   ],
   "source": [
    "n9=np.arange(6).reshape(3,2)\n",
    "print(n9)\n",
    "#采用np.delete(arr,size,axis=0或1)删除某几行或几列，axis=1删除列，axis=0删除行\n",
    "print(\"删除第一行:\\n\",np.delete(n9,0,0))\n",
    "print(\"删除第一列:\\n\",np.delete(n9,0,1))\n",
    "print(\"删除第一行和第二行:\\n\",np.delete(n9,(0,1),0))\n",
    "n9[0]=[10,20]\n",
    "print(\"修改第一行数据:\\n\",n9)\n",
    "n9[0][1]=100 #或者n9[0,1]\n",
    "print(\"修改第一行第二列的值:\\n\",n9)"
   ]
  },
  {
   "cell_type": "markdown",
   "id": "96ea9ced",
   "metadata": {},
   "source": [
    "## 行操作0 列操作1"
   ]
  },
  {
   "cell_type": "markdown",
   "id": "1367fd20",
   "metadata": {},
   "source": [
    "# 数组查询"
   ]
  },
  {
   "cell_type": "code",
   "execution_count": 124,
   "id": "f11a915e",
   "metadata": {},
   "outputs": [
    {
     "name": "stdout",
     "output_type": "stream",
     "text": [
      "[0 1 2 3 4 5 6 7 8 9]\n",
      "[0 0 0 0 0 0 1 1 1 1]\n",
      "[6 7 8 9]\n"
     ]
    }
   ],
   "source": [
    "n10=np.arange(10)\n",
    "print(n10)\n",
    "#调用np.where(condition,x,y)函数进行查询，如果元素满足条件condition则输出为x,否则y；若果不指定参数x和y，则输出满足函数条件数组元素的下标\n",
    "print(np.where(n10>5,1,0)) \n",
    "print(n10[np.where(n10>5)])"
   ]
  },
  {
   "cell_type": "markdown",
   "id": "78e00a23",
   "metadata": {},
   "source": [
    "# NumPy矩阵创建"
   ]
  },
  {
   "cell_type": "markdown",
   "id": "75fdb5dd",
   "metadata": {},
   "source": [
    "矩阵是ndarray的子类。  \n",
    "矩阵和数组是两种不同的类型。  \n",
    "NumPy提供了两个基本的对象：ndarray和ufunc对象，其他对象都是在他们的基础上构建的。  \n",
    "矩阵是继承NumPy n维数组对象的二维数组对象"
   ]
  },
  {
   "cell_type": "code",
   "execution_count": 3,
   "id": "f057d3dc",
   "metadata": {},
   "outputs": [
    {
     "name": "stdout",
     "output_type": "stream",
     "text": [
      "[[1 2]\n",
      " [3 4]]\n",
      "<class 'numpy.matrix'>\n",
      "[[1 2]\n",
      " [3 4]]\n",
      "<class 'numpy.matrix'>\n",
      "[[1 2]\n",
      " [3 4]]\n",
      "<class 'numpy.ndarray'>\n"
     ]
    }
   ],
   "source": [
    "a = np.mat(\"1 2;3 4\") #采用no.mat(data,copy=False)函数创建矩阵,使用分号隔开数据\n",
    "b = np.mat([[1,2],[3,4]])\n",
    "print(a)\n",
    "print(type(a))\n",
    "print(b)\n",
    "print(type(b))\n",
    "c = np.array([[1,2],[3,4]])\n",
    "print(c)\n",
    "print(type(c))"
   ]
  },
  {
   "cell_type": "code",
   "execution_count": 12,
   "id": "23458e24",
   "metadata": {},
   "outputs": [
    {
     "name": "stdout",
     "output_type": "stream",
     "text": [
      "[[0. 0. 0.]\n",
      " [0. 0. 0.]\n",
      " [0. 0. 0.]]\n",
      "[[1. 1. 1. 1.]\n",
      " [1. 1. 1. 1.]]\n",
      "[[0.31341443 0.86931598 0.65093993]\n",
      " [0.50399789 0.1931321  0.8713872 ]\n",
      " [0.18064965 0.13675115 0.05571409]]\n",
      "[[1 5 7 7 1]\n",
      " [1 7 7 3 3]\n",
      " [4 6 3 1 4]]\n",
      "[[1 0]\n",
      " [0 1]]\n",
      "[[1 0 0 0]\n",
      " [0 2 0 0]\n",
      " [0 0 3 0]\n",
      " [0 0 0 4]]\n"
     ]
    }
   ],
   "source": [
    "d = np.mat(np.zeros((3,3)))\n",
    "print(d)\n",
    "e = np.mat(np.ones((2,4)))\n",
    "print(e)\n",
    "f = np.mat(np.random.rand(3,3))#生成3*3的位于[0.0,1.0)的随机矩阵\n",
    "print(f)\n",
    "g = np.mat(np.random.randint(1,8,(3,5)))#生成3*5的位于[1,8)的随机整数矩阵\n",
    "print(g)\n",
    "h = np.mat(np.eye(2,dtype=int))#生成2*2的单位矩阵\n",
    "print(h)\n",
    "i = np.mat(np.diag([1,2,3,4])) #生成对角线为1，2，3，4的对角矩阵\n",
    "print(i)"
   ]
  },
  {
   "cell_type": "code",
   "execution_count": 14,
   "id": "67b159d9",
   "metadata": {},
   "outputs": [
    {
     "name": "stdout",
     "output_type": "stream",
     "text": [
      "[[1. 0. 0. 3. 0. 0.]\n",
      " [0. 1. 0. 0. 3. 0.]\n",
      " [0. 0. 1. 0. 0. 3.]\n",
      " [3. 0. 0. 1. 0. 0.]\n",
      " [0. 3. 0. 0. 1. 0.]\n",
      " [0. 0. 3. 0. 0. 1.]]\n"
     ]
    }
   ],
   "source": [
    "j1 = np.eye(3)\n",
    "j2 = 3*j1\n",
    "j = np.bmat(\"j1 j2;j2 j1\") #采用np.bmat函数创建分块矩阵\n",
    "print(j)"
   ]
  },
  {
   "cell_type": "markdown",
   "id": "22d7a97a",
   "metadata": {},
   "source": [
    "矩阵的加减除和对应元素乘，都具有广播机制，即自动补齐至对应元素可以运算的程度"
   ]
  },
  {
   "cell_type": "code",
   "execution_count": 3,
   "id": "d56d05a9",
   "metadata": {},
   "outputs": [
    {
     "name": "stdout",
     "output_type": "stream",
     "text": [
      "\n",
      "m+k:\n",
      "[[1 2]\n",
      " [3 4]\n",
      " [5 6]] \n",
      "    +  \n",
      " [[1 2]] \n",
      "    =  \n",
      " [[2 4]\n",
      " [4 6]\n",
      " [6 8]]\n",
      "\n",
      "k-m:\n",
      "[[1 2]\n",
      " [3 4]\n",
      " [5 6]] \n",
      "    -  \n",
      " [[1 2]] \n",
      "    =  \n",
      " [[0 0]\n",
      " [2 2]\n",
      " [4 4]]\n",
      "\n",
      "m-k:\n",
      "[[1 2]] \n",
      "    -  \n",
      " [[1 2]\n",
      " [3 4]\n",
      " [5 6]] \n",
      "    =  \n",
      " [[ 0  0]\n",
      " [-2 -2]\n",
      " [-4 -4]]\n",
      "m/k:\n",
      "[[1.         1.        ]\n",
      " [0.33333333 0.5       ]\n",
      " [0.2        0.33333333]]\n",
      "k/m:\n",
      "[[1. 1.]\n",
      " [3. 2.]\n",
      " [5. 3.]]\n",
      "矩阵元素相乘\n",
      "[[ 1  4]\n",
      " [ 3  8]\n",
      " [ 5 12]]\n"
     ]
    }
   ],
   "source": [
    "k = np.mat([[1,2],[3,4],[5,6]])\n",
    "m = np.mat(\"1 2\")\n",
    "print(\"\\nm+k:\")#对应元素相加\n",
    "print(k,\"\\n    +  \\n\",m,\"\\n    =  \\n\",k+m)\n",
    "print(\"\\nk-m:\")#对应元素相减\n",
    "print(k,\"\\n    -  \\n\",m,\"\\n    =  \\n\",k-m)\n",
    "print(\"\\nm-k:\")\n",
    "print(m,\"\\n    -  \\n\",k,\"\\n    =  \\n\",m-k)\n",
    "print(\"m/k:\")#对应元素相除\n",
    "print(m/k)\n",
    "print(\"k/m:\")\n",
    "print(k/m)\n",
    "print(\"矩阵元素相乘\")\n",
    "print(np.multiply(k,m))#对应元素相乘"
   ]
  },
  {
   "cell_type": "code",
   "execution_count": 5,
   "id": "30231eaf",
   "metadata": {},
   "outputs": [
    {
     "name": "stdout",
     "output_type": "stream",
     "text": [
      "[[1 2]\n",
      " [3 4]\n",
      " [5 6]]\n",
      "[[1]\n",
      " [2]\n",
      " [3]]\n",
      "[[2 3]\n",
      " [5 6]\n",
      " [8 9]]\n"
     ]
    }
   ],
   "source": [
    "print(k)\n",
    "n = np.mat(\"1;2;3\")\n",
    "print(n)\n",
    "print(n+k)"
   ]
  },
  {
   "cell_type": "code",
   "execution_count": 30,
   "id": "603ec558",
   "metadata": {},
   "outputs": [
    {
     "name": "stdout",
     "output_type": "stream",
     "text": [
      "[[ 7 10]\n",
      " [15 22]\n",
      " [23 34]]\n",
      "[[ 5]\n",
      " [11]\n",
      " [17]]\n"
     ]
    }
   ],
   "source": [
    "a1 = np.mat(\"1 2;3 4;5 6\")\n",
    "a2 = np.mat('1 2;3 4')\n",
    "a3=np.mat('1;2')\n",
    "print(a1*a2)\n",
    "print(a1*a3)"
   ]
  },
  {
   "cell_type": "code",
   "execution_count": 31,
   "id": "a8b7ac6f",
   "metadata": {},
   "outputs": [
    {
     "name": "stdout",
     "output_type": "stream",
     "text": [
      "[[1 2 3]\n",
      " [4 5 6]\n",
      " [7 8 9]]\n",
      "[[1 4 7]\n",
      " [2 5 8]\n",
      " [3 6 9]]\n",
      "[[ 3.15251974e+15 -6.30503948e+15  3.15251974e+15]\n",
      " [-6.30503948e+15  1.26100790e+16 -6.30503948e+15]\n",
      " [ 3.15251974e+15 -6.30503948e+15  3.15251974e+15]]\n",
      "[[1 4 7]\n",
      " [2 5 8]\n",
      " [3 6 9]]\n",
      "[[1 2 3]\n",
      " [4 5 6]\n",
      " [7 8 9]]\n",
      "[[ 1  2  3]\n",
      " [ 4  5 10]\n",
      " [ 7  8  9]]\n"
     ]
    }
   ],
   "source": [
    "a4 = np.mat(\"1 2 3;4 5 6;7 8 9\")\n",
    "print(a4)\n",
    "print(a4.T) #打印转置矩阵\n",
    "print(a4.I) #打印逆矩阵\n",
    "print(a4.H) #打印共轭转置矩阵\n",
    "print(a4.A) #返回二维数组的视图(相当于矩阵的引用)\n",
    "a5 = a4.A\n",
    "a5[1,2]=10\n",
    "print(a4)"
   ]
  },
  {
   "cell_type": "markdown",
   "id": "d1ffbf82",
   "metadata": {},
   "source": [
    "数组的加减乘除和比较，都具有广播机制，即自动补齐至对应元素可以运算的程度"
   ]
  },
  {
   "cell_type": "code",
   "execution_count": 16,
   "id": "5a9db0cb",
   "metadata": {},
   "outputs": [
    {
     "name": "stdout",
     "output_type": "stream",
     "text": [
      "[[1 2 3]\n",
      " [2 3 4]\n",
      " [3 4 5]\n",
      " [4 5 6]]\n",
      "\n",
      "[[-1 -2 -3]\n",
      " [ 0 -1 -2]\n",
      " [ 1  0 -1]\n",
      " [ 2  1  0]]\n",
      "\n",
      "[[ 1  2  3]\n",
      " [ 0  1  2]\n",
      " [-1  0  1]\n",
      " [-2 -1  0]]\n",
      "\n",
      "[[0 0 0]\n",
      " [1 2 3]\n",
      " [2 4 6]\n",
      " [3 6 9]]\n",
      "\n",
      "[[0.         0.         0.        ]\n",
      " [1.         0.5        0.33333333]\n",
      " [2.         1.         0.66666667]\n",
      " [3.         1.5        1.        ]]\n",
      "\n",
      "[[ 0  0  0]\n",
      " [ 1  1  1]\n",
      " [ 2  4  8]\n",
      " [ 3  9 27]]\n",
      "\n",
      "[[ 1  1  1]\n",
      " [ 1  2  3]\n",
      " [ 1  4  9]\n",
      " [ 1  8 27]]\n",
      "\n",
      "[[False False False]\n",
      " [False False False]\n",
      " [ True False False]\n",
      " [ True  True False]]\n",
      "\n",
      "False\n",
      "True\n"
     ]
    }
   ],
   "source": [
    "a5 = np.array([[0,0,0],[1,1,1],[2,2,2],[3,3,3]])\n",
    "a6 = np.array([1,2,3])\n",
    "print(a5+a6)\n",
    "print()\n",
    "print(a5-a6)\n",
    "print()\n",
    "print(a6-a5)\n",
    "print()\n",
    "print(a5*a6)\n",
    "print()\n",
    "print(a5/a6)\n",
    "print()\n",
    "print(a5**a6)\n",
    "print()\n",
    "print(a6**a5)\n",
    "print()\n",
    "print(a6<a5)\n",
    "print()\n",
    "print(np.all(a5==a6)) #np.all函数表示逻辑“and”，运算结果返回布尔值。\n",
    "print(np.any(a5==a6)) #np.any函数表示逻辑“or”，运算结果返回布尔值"
   ]
  },
  {
   "cell_type": "markdown",
   "id": "6ca57008",
   "metadata": {},
   "source": [
    "# 读写文件"
   ]
  },
  {
   "cell_type": "code",
   "execution_count": 71,
   "id": "cd553f01",
   "metadata": {},
   "outputs": [
    {
     "name": "stdout",
     "output_type": "stream",
     "text": [
      "[[ 0  1  2  3]\n",
      " [ 4  5  6  7]\n",
      " [ 8  9 10 11]]\n",
      "[[ 0  1  2  3]\n",
      " [ 4  5  6  7]\n",
      " [ 8  9 10 11]]\n",
      "[[12 13 14 15]\n",
      " [16 17 18 19]\n",
      " [20 21 22 23]]\n",
      "[[ 0  1  2  3]\n",
      " [ 4  5  6  7]\n",
      " [ 8  9 10 11]]\n",
      "[[12 13 14 15]\n",
      " [16 17 18 19]\n",
      " [20 21 22 23]]\n",
      "[[ 0.  1.  2.  3.]\n",
      " [ 4.  5.  6.  7.]\n",
      " [ 8.  9. 10. 11.]]\n",
      "[[ 0.  1.  2.  3.]\n",
      " [ 4.  5.  6.  7.]\n",
      " [ 8.  9. 10. 11.]]\n"
     ]
    }
   ],
   "source": [
    "a20 = np.arange(12).reshape(3,4)\n",
    "a21 = np.arange(12,24).reshape(3,4)\n",
    "np.save(\"./ArrayMemory/a20Memory\",a20) # 调用np.save(file, arr, allow_pickle=True, fix_imports=True)把数组arr保存至名称为“file”的文件中，其文件的扩展名.npy是系统自动添加的。\n",
    "np.savez(\"./ArrayMemory/a20a21Memory\",a20,a21) #调用np.savez(file,arr1,arr2...)函数，将多个数组保存到一个文件中，其文件的扩展名为.npz。\n",
    "print(np.load(\"./ArrayMemory/a20Memory.npy\")) #调用np.load(file)从文件中读取数组\n",
    "loadData = np.load(\"./ArrayMemory/a20a21Memory.npz\")\n",
    "print(loadData['arr_0']) #这个[]里面的东西如果你在savaz时没有指定Key则只能以这种形式写，arr_0,arr_1,arr_...\n",
    "print(loadData['arr_1'])\n",
    "np.savez(\"./ArrayMemory/Memory\",a=a20,b=a21)\n",
    "loadData = np.load(\"./ArrayMemory/Memory.npz\")\n",
    "print(loadData['a'])  #这里由于我们在savez时指定了key，所以我们可以用自己的指定的key值访问不同的数组\n",
    "print(loadData[\"b\"])\n",
    "np.savetxt(\"./ArrayMemory/a.txt\",a20,fmt='%d',delimiter=',') #调用np.savetxt(file,arr,fmt,delimiter)函数将arr以fmt的形式，delimiter为分隔符保存到file中\n",
    "print(np.loadtxt(\"./ArrayMemory/a.txt\",delimiter=','))#调用np.loadtxt(file,delimiter)函数将arr以delimiter为分隔符从file中读出\n",
    "print(np.genfromtxt(\"./ArrayMemory/a.txt\",delimiter=',')) #调用np.genfromtxt(file,delimiter)函数将arr以delimiter为分隔符从file中读出，面向的是结构化数组和缺失数据"
   ]
  },
  {
   "cell_type": "markdown",
   "id": "32ce0a50",
   "metadata": {},
   "source": [
    "# 使用数组进行简单数据分析"
   ]
  },
  {
   "cell_type": "code",
   "execution_count": 11,
   "id": "7bda91c0",
   "metadata": {},
   "outputs": [
    {
     "name": "stdout",
     "output_type": "stream",
     "text": [
      "[19 14 17  4 17 18  1  4 16 12]\n",
      "[6 3 7 9 1 8 2 4 5 0]\n",
      "[19 14 17  4 17 18  1  4 16 12]\n",
      "[ 1  4  4 12 14 16 17 17 18 19]\n"
     ]
    }
   ],
   "source": [
    "a7 = np.random.randint(1,20,10)\n",
    "print(a7)\n",
    "print(a7.argsort()) #返回排序值的下标，不会改变原数组\n",
    "print(a7)\n",
    "a7.sort() #调用数组的sort()函数对函数进行排序\n",
    "print(a7)\n"
   ]
  },
  {
   "cell_type": "code",
   "execution_count": 8,
   "id": "f0a8528f",
   "metadata": {},
   "outputs": [
    {
     "name": "stdout",
     "output_type": "stream",
     "text": [
      "[[14 19  6 10]\n",
      " [15 15 19  2]\n",
      " [ 3 10  7 15]]\n",
      "[[ 6 10 14 19]\n",
      " [ 2 15 15 19]\n",
      " [ 3  7 10 15]]\n",
      "[[ 2  7 10 15]\n",
      " [ 3 10 14 19]\n",
      " [ 6 15 15 19]]\n"
     ]
    }
   ],
   "source": [
    "a8 = np.random.randint(1,20,12).reshape(3,4)\n",
    "print(a8)\n",
    "a8.sort(axis=1) #横向排序\n",
    "print(a8)\n",
    "a8.sort(0)  #纵向排序\n",
    "print(a8) "
   ]
  },
  {
   "cell_type": "code",
   "execution_count": 20,
   "id": "2cc08be7",
   "metadata": {},
   "outputs": [
    {
     "name": "stdout",
     "output_type": "stream",
     "text": [
      "[3 4 1 0 2]\n",
      "\n",
      "[3 2 6 4 5]\n",
      "[50 30 40 20 10]\n",
      "[400 300 600 100 200]\n",
      "\n",
      "[4 5 2 3 6]\n",
      "[20 10 30 50 40]\n",
      "[100 200 300 400 600]\n",
      "\n",
      "<zip object at 0x00000213DC381BC0>\n",
      "[(4, 20, 100), (5, 10, 200), (2, 30, 300), (3, 50, 400), (6, 40, 600)]\n"
     ]
    }
   ],
   "source": [
    "a9 = np.array([3,2,6,4,5])\n",
    "a10 = np.array([50,30,40,20,10])\n",
    "a11 = np.array([400,300,600,100,200])\n",
    "d = np.lexsort((a9,a10,a11)) #np.lexsort()函数只接受一个参数，返回值为按照参数最后一个数据进行排序得到的下标,不会改变原数组顺序\n",
    "\n",
    "print(d)\n",
    "print()\n",
    "print(a9)\n",
    "print(a10)\n",
    "print(a11)\n",
    "print()\n",
    "print(a9[d])\n",
    "print(a10[d])\n",
    "print(a11[d])\n",
    "print()\n",
    "#zip () 函数用于将可迭代的对象作为参数，将对象中对应的元素打包成一个个元组(纵向打包，对象元素个数不相同则与最短的对象一致)，然后返回由这些元组组成的 zip 对象。\n",
    "print(zip(a9[d],a10[d],a11[d]))  #zip()函数返回一个对象\n",
    "print(list(zip(a9[d],a10[d],a11[d]))) #将zip()返回的对象列表化"
   ]
  },
  {
   "cell_type": "code",
   "execution_count": 7,
   "id": "803285ec",
   "metadata": {},
   "outputs": [
    {
     "name": "stdout",
     "output_type": "stream",
     "text": [
      "[1 1 1 1 1 2 2 2 2 2 3 3 3]\n",
      "[1 2 3]\n",
      "[1 1 1 1 1 2 2 2 2 2 3 3 3]\n",
      "[0 1 2]\n",
      "[0 1 2 0 1 2 0 1 2]\n",
      "[0 0 0 1 1 1 2 2 2]\n",
      "[0 1 2]\n"
     ]
    }
   ],
   "source": [
    "a12 = np.array([1,1,1,1,1,2,2,2,2,2,3,3,3])\n",
    "print(a12)\n",
    "print(np.unique(a12)) #调用np.unique(arr)去重，但不会影响数组本身\n",
    "print(a12)\n",
    "a13 = np.arange(3)\n",
    "print(a13)\n",
    "print(np.tile(a13,3)) #调用np.tile(arr,reps)实现数组重复,但不会影响数组本身\n",
    "print(np.repeat(a13,3)) #调用np.repeat(arr,reps)实现对数组中的每个元素的重复,但不会影响数组本身\n",
    "print(a13)"
   ]
  },
  {
   "cell_type": "code",
   "execution_count": 4,
   "id": "c301b6f9",
   "metadata": {},
   "outputs": [
    {
     "name": "stdout",
     "output_type": "stream",
     "text": [
      "[[ 1  2  3  4]\n",
      " [ 5  6  7  8]\n",
      " [ 9 10 11 12]]\n",
      "78\n",
      "[10 26 42]\n",
      "[15 18 21 24]\n",
      "6.5\n",
      "[ 2.5  6.5 10.5]\n",
      "[5. 6. 7. 8.]\n",
      "3.452052529534663\n",
      "11.916666666666666\n",
      "12\n",
      "11\n",
      "(2, 3)\n",
      "1\n",
      "0\n",
      "(0, 0)\n",
      "[ 1  3  6 10 15 21 28 36 45 55 66 78]\n",
      "[[ 1  3  6 10]\n",
      " [ 5 11 18 26]\n",
      " [ 9 19 30 42]]\n",
      "[[ 1  2  3  4]\n",
      " [ 6  8 10 12]\n",
      " [15 18 21 24]]\n",
      "[        1         2         6        24       120       720      5040\n",
      "     40320    362880   3628800  39916800 479001600]\n",
      "[[    1     2     6    24]\n",
      " [    5    30   210  1680]\n",
      " [    9    90   990 11880]]\n",
      "[[  1   2   3   4]\n",
      " [  5  12  21  32]\n",
      " [ 45 120 231 384]]\n",
      "11\n",
      "6.5\n"
     ]
    }
   ],
   "source": [
    "a13 = np.arange(1,13).reshape(3,4)\n",
    "print(a13)\n",
    "print(np.sum(a13)) #调用np.sum（arr）函数求和该数组\n",
    "print(a13.sum(1)) #数组的sum(axis)函数，1表示横向求和\n",
    "print(a13.sum(0)) #0表示纵向求和\n",
    "print(np.mean(a13)) #调用np.mean(arr)求数组平均值\n",
    "print(a13.mean(1)) #数组的mean(axis)函数，1表示横向均值\n",
    "print(a13.mean(0)) #0表示纵向求均值\n",
    "print(np.std(a13)) #调用np.std（arr）函数求数组标准差\n",
    "print(np.var(a13)) #调用np.var（arr）函数求数组方差\n",
    "print(np.max(a13)) #调用np.max（arr）函数求该数组最大值\n",
    "print(np.argmax(a13)) #调用np.argmax（arr）函数求该数组最大值下标,返回的是一个数\n",
    "print(np.unravel_index(np.argmax(a13),a13.shape)) #调用np.unravel_index(index,shape)依据下标和维度返回符合数组维度的下标，这里返回最大值的符合数组维度的下标\n",
    "print(np.min(a13)) #调用np.min（arr）函数求该数组最小值,返回的是一个数\n",
    "print(np.argmin(a13)) #调用np.argmin（arr）函数求该数组最小值下标\n",
    "print(np.unravel_index(np.argmin(a13),a13.shape)) #返回最小值的符合数组维度的下标\n",
    "print(np.cumsum(a13)) #调用np.cumsum(arr)求数组累加和\n",
    "print(np.cumsum(a13,1)) #调用np.cumsum(arr,axis=1) #求横向累加和\n",
    "print(np.cumsum(a13,0)) #调用np.cumsum(arr,axis=0) #求纵向累加和\n",
    "print(np.cumprod(a13)) #调用np.cumprod(arr)求数组累加积\n",
    "print(np.cumprod(a13,1)) #调用np.cumprod(arr,axis=1) #求横向累加积\n",
    "print(np.cumprod(a13,0)) #调用np.cumprod(arr,axis=0) #求纵向累加积\n",
    "print(np.ptp(a13)) #调用np.ptp(arr)求数组极差\n",
    "print(np.average(a13)) #调用np.average(arr)求数组加权平均值"
   ]
  },
  {
   "cell_type": "code",
   "execution_count": 26,
   "id": "cc9f268b",
   "metadata": {},
   "outputs": [
    {
     "name": "stdout",
     "output_type": "stream",
     "text": [
      "[[1 2 3]\n",
      " [4 5 6]\n",
      " [7 8 9]]\n",
      "\n",
      "[10 10 10]\n",
      "\n",
      "[[11 12 13]\n",
      " [14 15 16]\n",
      " [17 18 19]]\n",
      "[[11 12 13]\n",
      " [14 15 16]\n",
      " [17 18 19]]\n",
      "\n",
      "[[-9 -8 -7]\n",
      " [-6 -5 -4]\n",
      " [-3 -2 -1]]\n",
      "[[-9 -8 -7]\n",
      " [-6 -5 -4]\n",
      " [-3 -2 -1]]\n",
      "\n",
      "[[10 20 30]\n",
      " [40 50 60]\n",
      " [70 80 90]]\n",
      "[[10 20 30]\n",
      " [40 50 60]\n",
      " [70 80 90]]\n",
      "\n",
      "[[0.1 0.2 0.3]\n",
      " [0.4 0.5 0.6]\n",
      " [0.7 0.8 0.9]]\n",
      "[[0.1 0.2 0.3]\n",
      " [0.4 0.5 0.6]\n",
      " [0.7 0.8 0.9]]\n",
      "\n",
      "[100 100 100]\n",
      "\n",
      "[3.16227766 3.16227766 3.16227766]\n",
      "\n",
      "[1. 1. 1.]\n"
     ]
    }
   ],
   "source": [
    "a14 = np.arange(1,10).reshape(3,3)\n",
    "a15 = np.array([10,10,10])\n",
    "print(a14)\n",
    "print()\n",
    "print(a15)\n",
    "print()\n",
    "print(np.add(a14,a15)) #调用np.add(arr1,arr2)实现两个数组相加\n",
    "print(a14+a15)\n",
    "print()\n",
    "print(np.subtract(a14,a15)) #调用np.subtract(arr1,arr2)实现两个数组相减\n",
    "print(a14-a15)\n",
    "print()\n",
    "print(np.multiply(a14,a15)) #调用np.multiply(arr1,arr2)实现两个数组相乘\n",
    "print(a14*a15)\n",
    "print()\n",
    "print(np.divide(a14,a15))  #调用np.divide(arr1,arr2)实现两个数组相除\n",
    "print(a14/a15)\n",
    "print()\n",
    "print(np.square(a15)) #调用np.square(arr),得到数组中每个元素的平方\n",
    "print()\n",
    "print(np.sqrt(a15)) #调用np.sqrt(arr),得到数组中每个元素的平方根\n",
    "print()\n",
    "print(np.log10(a15)) #调用np.log10(arr)得到每个元素以10为底数的对数"
   ]
  },
  {
   "cell_type": "code",
   "execution_count": 21,
   "id": "64a54037",
   "metadata": {},
   "outputs": [
    {
     "name": "stdout",
     "output_type": "stream",
     "text": [
      "[-1.          4.          0.1         0.43478261  0.4         0.27777778\n",
      " -0.76923077]\n",
      "[ 1.    0.25 10.    2.3   2.5   3.6   1.3 ]\n",
      "[-1.3, -1.0, 0.25, 2.3, 2.5, 3.6, 10.0]\n",
      "2.3\n",
      "[-1.  0. 10.  2.  2.  4. -1.]\n",
      "[-1.  1. 10.  3.  3.  4. -1.]\n",
      "[-1.  0. 10.  2.  2.  3. -2.]\n",
      "(array([-0.  ,  0.25,  0.  ,  0.3 ,  0.5 ,  0.6 , -0.3 ]), array([-1.,  0., 10.,  2.,  2.,  3., -1.]))\n",
      "[-1.  1.  1.  1.  1.  1. -1.]\n"
     ]
    }
   ],
   "source": [
    "a16 = np.array([-1,0.25,10,2.3,2.5,3.6,-1.3])\n",
    "print(np.reciprocal(a16)) #调用np.reciprocal(arr)求出数组的每个元素的倒数\n",
    "print(np.abs(a16)) #调用np.abs(arr)求出数组的每个元素的绝对值\n",
    "print(sorted(a16)) #调用sorted(arr)对数组排序，但不会改变原数组\n",
    "print(np.median(a16)) #调用np.median(arr)求出数组的中位数\n",
    "print(np.around(a16)) #调用np.around(arr)求出数组的每个元素的四舍五入后的值\n",
    "print(np.ceil(a16)) #调用np.ceil(arr)求出数组的每个元素的向上取整后的值\n",
    "print(np.floor(a16)) #调用np.floor(arr)求出数组的每个元素的向下取整后的值\n",
    "print(np.modf(a16)) #调用np.modf(arr)将数组的每个元素小数部分和整数部分分开成为两个数组\n",
    "print(np.sign(a16)) #调用np.sign(arr)求出数组的每个元素的的符号，1正，2零，-1负"
   ]
  },
  {
   "cell_type": "code",
   "execution_count": 31,
   "id": "48d6713c",
   "metadata": {},
   "outputs": [
    {
     "name": "stdout",
     "output_type": "stream",
     "text": [
      "[1 4 9]\n",
      "[ 1  4 81]\n",
      "[0 0 3]\n",
      "[1 2 0]\n"
     ]
    }
   ],
   "source": [
    "a17 = np.array([1,2,3])\n",
    "a18 = np.array([1,2,4])\n",
    "print(np.power(a17,2)) #调用np.power(arr1,arr2或某个值) 将arr1中的元素为底数，arr2中对应元素或者某个值为幂，计算出结果\n",
    "print(np.power(a17,a18))\n",
    "print(np.mod(a17,a18)) #调用np.mod(arr1,arr2或某个值) 将arr1中的元素对arr2中对应元素或者某个值取余，计算出结果\n",
    "print(np.mod(a17,3))"
   ]
  },
  {
   "cell_type": "code",
   "execution_count": 34,
   "id": "c169033c",
   "metadata": {},
   "outputs": [
    {
     "name": "stdout",
     "output_type": "stream",
     "text": [
      "[0.         0.5        0.70710678 0.8660254  1.        ]\n",
      "[1.00000000e+00 8.66025404e-01 7.07106781e-01 5.00000000e-01\n",
      " 6.12323400e-17]\n",
      "[0.00000000e+00 5.77350269e-01 1.00000000e+00 1.73205081e+00\n",
      " 1.63312394e+16]\n"
     ]
    }
   ],
   "source": [
    "a19 = np.array([0,30,45,60,90])\n",
    "print(np.sin(a19*np.pi/180)) #调用np.sin(arr*np.pi/180)函数求得数组元素的正弦值\n",
    "print(np.cos(a19*np.pi/180)) #调用np.cos(arr*np.pi/180)函数求得数组元素的余弦值\n",
    "print(np.tan(a19*np.pi/180)) #调用np.tan(arr*np.pi/180)函数求得数组元素的正切值"
   ]
  }
 ],
 "metadata": {
  "kernelspec": {
   "display_name": "Python 3 (ipykernel)",
   "language": "python",
   "name": "python3"
  },
  "language_info": {
   "codemirror_mode": {
    "name": "ipython",
    "version": 3
   },
   "file_extension": ".py",
   "mimetype": "text/x-python",
   "name": "python",
   "nbconvert_exporter": "python",
   "pygments_lexer": "ipython3",
   "version": "3.9.7"
  }
 },
 "nbformat": 4,
 "nbformat_minor": 5
}
